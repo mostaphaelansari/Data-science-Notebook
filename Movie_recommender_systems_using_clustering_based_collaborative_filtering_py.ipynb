{
  "nbformat": 4,
  "nbformat_minor": 0,
  "metadata": {
    "colab": {
      "provenance": []
    },
    "kernelspec": {
      "name": "python3",
      "display_name": "Python 3"
    },
    "language_info": {
      "name": "python"
    }
  },
  "cells": [
    {
      "cell_type": "code",
      "execution_count": null,
      "metadata": {
        "id": "nE8WXeyXq7VL"
      },
      "outputs": [],
      "source": [
        "import pandas as pd\n",
        "from sklearn.cluster import KMeans\n",
        "import numpy as np"
      ]
    },
    {
      "cell_type": "markdown",
      "source": [
        "**charger les données des évaluations**"
      ],
      "metadata": {
        "id": "FbVagP_66WV2"
      }
    },
    {
      "cell_type": "code",
      "source": [
        "rating_data = pd.read_csv('https://files.grouplens.org/datasets/movielens/ml-100k/u1.base', sep='\\t', names=['user_id', 'item_id', 'rating', 'timestamp'])"
      ],
      "metadata": {
        "id": "FlGK6dYdxDGr"
      },
      "execution_count": null,
      "outputs": []
    },
    {
      "cell_type": "markdown",
      "source": [
        "**Charger les donner des films**"
      ],
      "metadata": {
        "id": "0JXp5yHx7by1"
      }
    },
    {
      "cell_type": "code",
      "source": [
        "movies_data = pd.read_csv('https://files.grouplens.org/datasets/movielens/ml-100k/u.item', sep='|', encoding='latin-1', usecols=[0, 1], names=['item_id', 'title'])"
      ],
      "metadata": {
        "id": "Fz_vqF-txDgy"
      },
      "execution_count": null,
      "outputs": []
    },
    {
      "cell_type": "code",
      "source": [
        "movie_ratings = pd.merge(movies_data, rating_data, on='item_id').pivot_table(index=['user_id'], columns=['title'], values='rating')"
      ],
      "metadata": {
        "id": "OlxdRLx17u3E"
      },
      "execution_count": null,
      "outputs": []
    },
    {
      "cell_type": "markdown",
      "source": [
        "**Remplir les valeurs manquantes**"
      ],
      "metadata": {
        "id": "-6zLNpoV7-Pc"
      }
    },
    {
      "cell_type": "code",
      "source": [
        "movie_ratings = movie_ratings.fillna(0)"
      ],
      "metadata": {
        "id": "A-YUYIm277ST"
      },
      "execution_count": null,
      "outputs": []
    },
    {
      "cell_type": "markdown",
      "source": [
        "**Normalisation des évaluation**"
      ],
      "metadata": {
        "id": "6FyPPbPa8R25"
      }
    },
    {
      "cell_type": "code",
      "source": [
        "def normalize(row):\n",
        "    new_row = (row - row.mean()) / (row.max() - row.min())\n",
        "    return new_row"
      ],
      "metadata": {
        "id": "IEysPpmE8Kp_"
      },
      "execution_count": null,
      "outputs": []
    },
    {
      "cell_type": "code",
      "source": [
        "user_ratings = movie_ratings.apply(normalize)"
      ],
      "metadata": {
        "id": "qe5Gbe0R8bvq"
      },
      "execution_count": null,
      "outputs": []
    },
    {
      "cell_type": "markdown",
      "source": [
        "**Appliquer k-means clustering**"
      ],
      "metadata": {
        "id": "dUhK20519fD2"
      }
    },
    {
      "cell_type": "code",
      "source": [
        "kmeans = KMeans(n_clusters=5)\n",
        "kmeans.fit(user_ratings)"
      ],
      "metadata": {
        "colab": {
          "base_uri": "https://localhost:8080/",
          "height": 129
        },
        "id": "3U1eM8Vs9Z-D",
        "outputId": "dd8dde71-f071-47ba-9fa1-0a4ffe477945"
      },
      "execution_count": null,
      "outputs": [
        {
          "output_type": "stream",
          "name": "stderr",
          "text": [
            "/usr/local/lib/python3.9/dist-packages/sklearn/cluster/_kmeans.py:870: FutureWarning: The default value of `n_init` will change from 10 to 'auto' in 1.4. Set the value of `n_init` explicitly to suppress the warning\n",
            "  warnings.warn(\n"
          ]
        },
        {
          "output_type": "execute_result",
          "data": {
            "text/plain": [
              "KMeans(n_clusters=5)"
            ],
            "text/html": [
              "<style>#sk-container-id-6 {color: black;background-color: white;}#sk-container-id-6 pre{padding: 0;}#sk-container-id-6 div.sk-toggleable {background-color: white;}#sk-container-id-6 label.sk-toggleable__label {cursor: pointer;display: block;width: 100%;margin-bottom: 0;padding: 0.3em;box-sizing: border-box;text-align: center;}#sk-container-id-6 label.sk-toggleable__label-arrow:before {content: \"▸\";float: left;margin-right: 0.25em;color: #696969;}#sk-container-id-6 label.sk-toggleable__label-arrow:hover:before {color: black;}#sk-container-id-6 div.sk-estimator:hover label.sk-toggleable__label-arrow:before {color: black;}#sk-container-id-6 div.sk-toggleable__content {max-height: 0;max-width: 0;overflow: hidden;text-align: left;background-color: #f0f8ff;}#sk-container-id-6 div.sk-toggleable__content pre {margin: 0.2em;color: black;border-radius: 0.25em;background-color: #f0f8ff;}#sk-container-id-6 input.sk-toggleable__control:checked~div.sk-toggleable__content {max-height: 200px;max-width: 100%;overflow: auto;}#sk-container-id-6 input.sk-toggleable__control:checked~label.sk-toggleable__label-arrow:before {content: \"▾\";}#sk-container-id-6 div.sk-estimator input.sk-toggleable__control:checked~label.sk-toggleable__label {background-color: #d4ebff;}#sk-container-id-6 div.sk-label input.sk-toggleable__control:checked~label.sk-toggleable__label {background-color: #d4ebff;}#sk-container-id-6 input.sk-hidden--visually {border: 0;clip: rect(1px 1px 1px 1px);clip: rect(1px, 1px, 1px, 1px);height: 1px;margin: -1px;overflow: hidden;padding: 0;position: absolute;width: 1px;}#sk-container-id-6 div.sk-estimator {font-family: monospace;background-color: #f0f8ff;border: 1px dotted black;border-radius: 0.25em;box-sizing: border-box;margin-bottom: 0.5em;}#sk-container-id-6 div.sk-estimator:hover {background-color: #d4ebff;}#sk-container-id-6 div.sk-parallel-item::after {content: \"\";width: 100%;border-bottom: 1px solid gray;flex-grow: 1;}#sk-container-id-6 div.sk-label:hover label.sk-toggleable__label {background-color: #d4ebff;}#sk-container-id-6 div.sk-serial::before {content: \"\";position: absolute;border-left: 1px solid gray;box-sizing: border-box;top: 0;bottom: 0;left: 50%;z-index: 0;}#sk-container-id-6 div.sk-serial {display: flex;flex-direction: column;align-items: center;background-color: white;padding-right: 0.2em;padding-left: 0.2em;position: relative;}#sk-container-id-6 div.sk-item {position: relative;z-index: 1;}#sk-container-id-6 div.sk-parallel {display: flex;align-items: stretch;justify-content: center;background-color: white;position: relative;}#sk-container-id-6 div.sk-item::before, #sk-container-id-6 div.sk-parallel-item::before {content: \"\";position: absolute;border-left: 1px solid gray;box-sizing: border-box;top: 0;bottom: 0;left: 50%;z-index: -1;}#sk-container-id-6 div.sk-parallel-item {display: flex;flex-direction: column;z-index: 1;position: relative;background-color: white;}#sk-container-id-6 div.sk-parallel-item:first-child::after {align-self: flex-end;width: 50%;}#sk-container-id-6 div.sk-parallel-item:last-child::after {align-self: flex-start;width: 50%;}#sk-container-id-6 div.sk-parallel-item:only-child::after {width: 0;}#sk-container-id-6 div.sk-dashed-wrapped {border: 1px dashed gray;margin: 0 0.4em 0.5em 0.4em;box-sizing: border-box;padding-bottom: 0.4em;background-color: white;}#sk-container-id-6 div.sk-label label {font-family: monospace;font-weight: bold;display: inline-block;line-height: 1.2em;}#sk-container-id-6 div.sk-label-container {text-align: center;}#sk-container-id-6 div.sk-container {/* jupyter's `normalize.less` sets `[hidden] { display: none; }` but bootstrap.min.css set `[hidden] { display: none !important; }` so we also need the `!important` here to be able to override the default hidden behavior on the sphinx rendered scikit-learn.org. See: https://github.com/scikit-learn/scikit-learn/issues/21755 */display: inline-block !important;position: relative;}#sk-container-id-6 div.sk-text-repr-fallback {display: none;}</style><div id=\"sk-container-id-6\" class=\"sk-top-container\"><div class=\"sk-text-repr-fallback\"><pre>KMeans(n_clusters=5)</pre><b>In a Jupyter environment, please rerun this cell to show the HTML representation or trust the notebook. <br />On GitHub, the HTML representation is unable to render, please try loading this page with nbviewer.org.</b></div><div class=\"sk-container\" hidden><div class=\"sk-item\"><div class=\"sk-estimator sk-toggleable\"><input class=\"sk-toggleable__control sk-hidden--visually\" id=\"sk-estimator-id-6\" type=\"checkbox\" checked><label for=\"sk-estimator-id-6\" class=\"sk-toggleable__label sk-toggleable__label-arrow\">KMeans</label><div class=\"sk-toggleable__content\"><pre>KMeans(n_clusters=5)</pre></div></div></div></div></div>"
            ]
          },
          "metadata": {},
          "execution_count": 93
        }
      ]
    },
    {
      "cell_type": "markdown",
      "source": [
        "**Obtenir les étiquttes des clusters**"
      ],
      "metadata": {
        "id": "Q_8G5VeF9vjh"
      }
    },
    {
      "cell_type": "code",
      "source": [
        "cluster_labels = kmeans.predict(user_ratings)"
      ],
      "metadata": {
        "id": "QCkd8NiO9rnl"
      },
      "execution_count": null,
      "outputs": []
    },
    {
      "cell_type": "markdown",
      "source": [
        "**Ajouter les étiquettes des cluster sur dataframe**"
      ],
      "metadata": {
        "id": "8tPrAEq698W7"
      }
    },
    {
      "cell_type": "code",
      "source": [
        "user_ratings['cluster'] = cluster_labels"
      ],
      "metadata": {
        "id": "rvt4gopo9rgV"
      },
      "execution_count": null,
      "outputs": []
    },
    {
      "cell_type": "markdown",
      "source": [
        "**Faire les recommendations**"
      ],
      "metadata": {
        "id": "50hFUJrO-SIi"
      }
    },
    {
      "cell_type": "code",
      "source": [
        "user_id = 1"
      ],
      "metadata": {
        "id": "orU9plU8-OrG"
      },
      "execution_count": null,
      "outputs": []
    },
    {
      "cell_type": "code",
      "source": [
        "user_cluster = user_ratings.loc[user_id]['cluster']"
      ],
      "metadata": {
        "id": "kRztVXoq-dzx"
      },
      "execution_count": null,
      "outputs": []
    },
    {
      "cell_type": "code",
      "source": [
        "cluster_users = user_ratings[user_ratings['cluster'] == user_cluster].index"
      ],
      "metadata": {
        "id": "lk4-7z03-dxb"
      },
      "execution_count": null,
      "outputs": []
    },
    {
      "cell_type": "code",
      "source": [
        "cluster_ratings = movie_ratings.loc[cluster_users].fillna(0)"
      ],
      "metadata": {
        "id": "-ipELV47-duE"
      },
      "execution_count": null,
      "outputs": []
    },
    {
      "cell_type": "code",
      "source": [
        "cluster_mean_ratings = cluster_ratings.mean()"
      ],
      "metadata": {
        "id": "U8LT6aij-dqb"
      },
      "execution_count": null,
      "outputs": []
    },
    {
      "cell_type": "code",
      "source": [
        "rated_movies = rating_data[rating_data['user_id'] == user_id]['item_id'].unique()"
      ],
      "metadata": {
        "id": "cfQE3SeR-doV"
      },
      "execution_count": null,
      "outputs": []
    },
    {
      "cell_type": "code",
      "source": [
        "unrated_movies = cluster_mean_ratings[~cluster_mean_ratings.index.isin(rated_movies)]"
      ],
      "metadata": {
        "id": "qUDHpYsl-dk8"
      },
      "execution_count": null,
      "outputs": []
    },
    {
      "cell_type": "code",
      "source": [
        "recommended_movies = unrated_movies.sort_values(ascending=False)[:10].index.tolist()"
      ],
      "metadata": {
        "id": "WXWYcV8f-djr"
      },
      "execution_count": null,
      "outputs": []
    },
    {
      "cell_type": "code",
      "source": [
        "print(recommended_movies)"
      ],
      "metadata": {
        "colab": {
          "base_uri": "https://localhost:8080/"
        },
        "id": "8IuhGLUd-dCi",
        "outputId": "27819cf5-6ecb-4a03-e892-f78b63ad7504"
      },
      "execution_count": null,
      "outputs": [
        {
          "output_type": "stream",
          "name": "stdout",
          "text": [
            "['Star Wars (1977)', 'Raiders of the Lost Ark (1981)', 'Return of the Jedi (1983)', 'Empire Strikes Back, The (1980)', 'Pulp Fiction (1994)', 'Indiana Jones and the Last Crusade (1989)', 'Fugitive, The (1993)', 'Back to the Future (1985)', 'Braveheart (1995)', 'Silence of the Lambs, The (1991)']\n"
          ]
        }
      ]
    },
    {
      "cell_type": "markdown",
      "source": [
        "**calculer la précision**"
      ],
      "metadata": {
        "id": "fkO2DxDLAANf"
      }
    },
    {
      "cell_type": "code",
      "source": [
        "precision = 0.0\n",
        "num_recommended = len(recommended_movies)\n",
        "if num_recommended > 0:\n",
        "    num_true_positives = 0\n",
        "    for movie_id in recommended_movies:\n",
        "        if movie_ratings.loc[user_id][movie_id] >= 4.0:\n",
        "            num_true_positives += 1\n",
        "    precision = num_true_positives / num_recommended\n"
      ],
      "metadata": {
        "id": "aKEGJ1cEARPw"
      },
      "execution_count": null,
      "outputs": []
    },
    {
      "cell_type": "code",
      "source": [
        "print(precision)"
      ],
      "metadata": {
        "colab": {
          "base_uri": "https://localhost:8080/"
        },
        "id": "viRneE6OAW6b",
        "outputId": "5f12299c-428e-4744-ea08-c9dcdb318cb7"
      },
      "execution_count": null,
      "outputs": [
        {
          "output_type": "stream",
          "name": "stdout",
          "text": [
            "0.5\n"
          ]
        }
      ]
    },
    {
      "cell_type": "markdown",
      "source": [
        "### **PCA+ K-means **"
      ],
      "metadata": {
        "id": "IcAzIVScAhS5"
      }
    },
    {
      "cell_type": "code",
      "source": [
        "import pandas as pd\n",
        "from sklearn.cluster import KMeans\n",
        "from sklearn.decomposition import PCA\n",
        "import numpy as np\n"
      ],
      "metadata": {
        "id": "dEiYIvXYAeB9"
      },
      "execution_count": null,
      "outputs": []
    },
    {
      "cell_type": "code",
      "source": [
        "rating_data = pd.read_csv('https://files.grouplens.org/datasets/movielens/ml-100k/u1.base', sep='\\t', names=['user_id', 'item_id', 'rating', 'timestamp'])"
      ],
      "metadata": {
        "id": "kD0QIbqIA222"
      },
      "execution_count": null,
      "outputs": []
    },
    {
      "cell_type": "code",
      "source": [
        "movies_data = pd.read_csv('https://files.grouplens.org/datasets/movielens/ml-100k/u.item', sep='|', encoding='latin-1', usecols=[0, 1], names=['item_id', 'title'])"
      ],
      "metadata": {
        "id": "la6J9ba2BFLj"
      },
      "execution_count": null,
      "outputs": []
    },
    {
      "cell_type": "code",
      "source": [
        "movies_data = pd.read_csv('https://files.grouplens.org/datasets/movielens/ml-100k/u.item', sep='|', encoding='latin-1', usecols=[0, 1], names=['item_id', 'title'])"
      ],
      "metadata": {
        "id": "cRCHtgjPBN1l"
      },
      "execution_count": null,
      "outputs": []
    },
    {
      "cell_type": "code",
      "source": [
        "movie_ratings = pd.merge(movies_data, rating_data, on='item_id').pivot_table(index=['user_id'], columns=['title'], values='rating')"
      ],
      "metadata": {
        "id": "Cfv7i3cNBNzL"
      },
      "execution_count": null,
      "outputs": []
    },
    {
      "cell_type": "code",
      "source": [
        "movie_ratings = movie_ratings.fillna(0)"
      ],
      "metadata": {
        "id": "cIwksgb1BNw1"
      },
      "execution_count": null,
      "outputs": []
    },
    {
      "cell_type": "code",
      "source": [
        "def normalize(row):\n",
        "    new_row = (row - row.mean()) / (row.max() - row.min())\n",
        "    return new_row\n"
      ],
      "metadata": {
        "id": "OYXdv5H4BNtk"
      },
      "execution_count": null,
      "outputs": []
    },
    {
      "cell_type": "code",
      "source": [
        "user_ratings = movie_ratings.apply(normalize)"
      ],
      "metadata": {
        "id": "dISBPui1BNrE"
      },
      "execution_count": null,
      "outputs": []
    },
    {
      "cell_type": "markdown",
      "source": [
        "# **Appliquer PCA**"
      ],
      "metadata": {
        "id": "2jDepe1fF2oP"
      }
    },
    {
      "cell_type": "code",
      "source": [
        "pca = PCA(n_components=50)"
      ],
      "metadata": {
        "id": "pVOvry5LBNoA"
      },
      "execution_count": null,
      "outputs": []
    },
    {
      "cell_type": "code",
      "source": [
        "pca.fit(user_ratings)"
      ],
      "metadata": {
        "id": "Ufb5oEb1BNmS"
      },
      "execution_count": null,
      "outputs": []
    },
    {
      "cell_type": "code",
      "source": [
        "user_ratings_pca = pca.transform(user_ratings)"
      ],
      "metadata": {
        "id": "3hVVOp_mBNgr"
      },
      "execution_count": null,
      "outputs": []
    },
    {
      "cell_type": "markdown",
      "source": [
        "***appliquer k-means clustering***"
      ],
      "metadata": {
        "id": "k94YiW5uFoe9"
      }
    },
    {
      "cell_type": "code",
      "source": [
        "kmeans = KMeans(n_clusters=5)"
      ],
      "metadata": {
        "id": "FapeaRCuBNfY"
      },
      "execution_count": null,
      "outputs": []
    },
    {
      "cell_type": "code",
      "source": [
        "kmeans.fit(user_ratings_pca)"
      ],
      "metadata": {
        "colab": {
          "base_uri": "https://localhost:8080/",
          "height": 129
        },
        "id": "2j63wtfpCROj",
        "outputId": "27256ae0-e006-4d8e-9aef-a272cc67c6b0"
      },
      "execution_count": null,
      "outputs": [
        {
          "output_type": "stream",
          "name": "stderr",
          "text": [
            "/usr/local/lib/python3.9/dist-packages/sklearn/cluster/_kmeans.py:870: FutureWarning: The default value of `n_init` will change from 10 to 'auto' in 1.4. Set the value of `n_init` explicitly to suppress the warning\n",
            "  warnings.warn(\n"
          ]
        },
        {
          "output_type": "execute_result",
          "data": {
            "text/plain": [
              "KMeans(n_clusters=5)"
            ],
            "text/html": [
              "<style>#sk-container-id-8 {color: black;background-color: white;}#sk-container-id-8 pre{padding: 0;}#sk-container-id-8 div.sk-toggleable {background-color: white;}#sk-container-id-8 label.sk-toggleable__label {cursor: pointer;display: block;width: 100%;margin-bottom: 0;padding: 0.3em;box-sizing: border-box;text-align: center;}#sk-container-id-8 label.sk-toggleable__label-arrow:before {content: \"▸\";float: left;margin-right: 0.25em;color: #696969;}#sk-container-id-8 label.sk-toggleable__label-arrow:hover:before {color: black;}#sk-container-id-8 div.sk-estimator:hover label.sk-toggleable__label-arrow:before {color: black;}#sk-container-id-8 div.sk-toggleable__content {max-height: 0;max-width: 0;overflow: hidden;text-align: left;background-color: #f0f8ff;}#sk-container-id-8 div.sk-toggleable__content pre {margin: 0.2em;color: black;border-radius: 0.25em;background-color: #f0f8ff;}#sk-container-id-8 input.sk-toggleable__control:checked~div.sk-toggleable__content {max-height: 200px;max-width: 100%;overflow: auto;}#sk-container-id-8 input.sk-toggleable__control:checked~label.sk-toggleable__label-arrow:before {content: \"▾\";}#sk-container-id-8 div.sk-estimator input.sk-toggleable__control:checked~label.sk-toggleable__label {background-color: #d4ebff;}#sk-container-id-8 div.sk-label input.sk-toggleable__control:checked~label.sk-toggleable__label {background-color: #d4ebff;}#sk-container-id-8 input.sk-hidden--visually {border: 0;clip: rect(1px 1px 1px 1px);clip: rect(1px, 1px, 1px, 1px);height: 1px;margin: -1px;overflow: hidden;padding: 0;position: absolute;width: 1px;}#sk-container-id-8 div.sk-estimator {font-family: monospace;background-color: #f0f8ff;border: 1px dotted black;border-radius: 0.25em;box-sizing: border-box;margin-bottom: 0.5em;}#sk-container-id-8 div.sk-estimator:hover {background-color: #d4ebff;}#sk-container-id-8 div.sk-parallel-item::after {content: \"\";width: 100%;border-bottom: 1px solid gray;flex-grow: 1;}#sk-container-id-8 div.sk-label:hover label.sk-toggleable__label {background-color: #d4ebff;}#sk-container-id-8 div.sk-serial::before {content: \"\";position: absolute;border-left: 1px solid gray;box-sizing: border-box;top: 0;bottom: 0;left: 50%;z-index: 0;}#sk-container-id-8 div.sk-serial {display: flex;flex-direction: column;align-items: center;background-color: white;padding-right: 0.2em;padding-left: 0.2em;position: relative;}#sk-container-id-8 div.sk-item {position: relative;z-index: 1;}#sk-container-id-8 div.sk-parallel {display: flex;align-items: stretch;justify-content: center;background-color: white;position: relative;}#sk-container-id-8 div.sk-item::before, #sk-container-id-8 div.sk-parallel-item::before {content: \"\";position: absolute;border-left: 1px solid gray;box-sizing: border-box;top: 0;bottom: 0;left: 50%;z-index: -1;}#sk-container-id-8 div.sk-parallel-item {display: flex;flex-direction: column;z-index: 1;position: relative;background-color: white;}#sk-container-id-8 div.sk-parallel-item:first-child::after {align-self: flex-end;width: 50%;}#sk-container-id-8 div.sk-parallel-item:last-child::after {align-self: flex-start;width: 50%;}#sk-container-id-8 div.sk-parallel-item:only-child::after {width: 0;}#sk-container-id-8 div.sk-dashed-wrapped {border: 1px dashed gray;margin: 0 0.4em 0.5em 0.4em;box-sizing: border-box;padding-bottom: 0.4em;background-color: white;}#sk-container-id-8 div.sk-label label {font-family: monospace;font-weight: bold;display: inline-block;line-height: 1.2em;}#sk-container-id-8 div.sk-label-container {text-align: center;}#sk-container-id-8 div.sk-container {/* jupyter's `normalize.less` sets `[hidden] { display: none; }` but bootstrap.min.css set `[hidden] { display: none !important; }` so we also need the `!important` here to be able to override the default hidden behavior on the sphinx rendered scikit-learn.org. See: https://github.com/scikit-learn/scikit-learn/issues/21755 */display: inline-block !important;position: relative;}#sk-container-id-8 div.sk-text-repr-fallback {display: none;}</style><div id=\"sk-container-id-8\" class=\"sk-top-container\"><div class=\"sk-text-repr-fallback\"><pre>KMeans(n_clusters=5)</pre><b>In a Jupyter environment, please rerun this cell to show the HTML representation or trust the notebook. <br />On GitHub, the HTML representation is unable to render, please try loading this page with nbviewer.org.</b></div><div class=\"sk-container\" hidden><div class=\"sk-item\"><div class=\"sk-estimator sk-toggleable\"><input class=\"sk-toggleable__control sk-hidden--visually\" id=\"sk-estimator-id-8\" type=\"checkbox\" checked><label for=\"sk-estimator-id-8\" class=\"sk-toggleable__label sk-toggleable__label-arrow\">KMeans</label><div class=\"sk-toggleable__content\"><pre>KMeans(n_clusters=5)</pre></div></div></div></div></div>"
            ]
          },
          "metadata": {},
          "execution_count": 117
        }
      ]
    },
    {
      "cell_type": "markdown",
      "source": [
        "**Obtenir les étiquettes des clusters**\n"
      ],
      "metadata": {
        "id": "j3Q0y4ffEwzw"
      }
    },
    {
      "cell_type": "code",
      "source": [
        "cluster_labels = kmeans.predict(user_ratings_pca)"
      ],
      "metadata": {
        "id": "Jj7YRrmECWsg"
      },
      "execution_count": null,
      "outputs": []
    },
    {
      "cell_type": "markdown",
      "source": [
        "**Ajouter les étiquettes sur le dataframe**"
      ],
      "metadata": {
        "id": "poM_lBOXEoJw"
      }
    },
    {
      "cell_type": "code",
      "source": [
        "user_ratings['cluster'] = cluster_labels"
      ],
      "metadata": {
        "id": "wvAnIKuqChYc"
      },
      "execution_count": null,
      "outputs": []
    },
    {
      "cell_type": "markdown",
      "source": [
        "**Faire des recommendations**"
      ],
      "metadata": {
        "id": "2I9WNlUkEhW1"
      }
    },
    {
      "cell_type": "code",
      "source": [
        "user_id = 1"
      ],
      "metadata": {
        "id": "GR7IKRkLChVc"
      },
      "execution_count": null,
      "outputs": []
    },
    {
      "cell_type": "code",
      "source": [
        "user_cluster = user_ratings.loc[user_id]['cluster']"
      ],
      "metadata": {
        "id": "770y7nG7ChR0"
      },
      "execution_count": null,
      "outputs": []
    },
    {
      "cell_type": "code",
      "source": [
        "cluster_users = user_ratings[user_ratings['cluster'] == user_cluster].index"
      ],
      "metadata": {
        "id": "ritjDwjFChQK"
      },
      "execution_count": null,
      "outputs": []
    },
    {
      "cell_type": "code",
      "source": [
        "cluster_ratings = movie_ratings.loc[cluster_users].fillna(0)"
      ],
      "metadata": {
        "id": "4ttfSsV_C7td"
      },
      "execution_count": null,
      "outputs": []
    },
    {
      "cell_type": "code",
      "source": [
        "cluster_mean_ratings = cluster_ratings.mean()"
      ],
      "metadata": {
        "id": "Bypw2f2SC7d3"
      },
      "execution_count": null,
      "outputs": []
    },
    {
      "cell_type": "code",
      "source": [
        "rated_movies = rating_data[rating_data['user_id'] == user_id]['item_id'].unique()"
      ],
      "metadata": {
        "id": "hUBkHrRPC7cC"
      },
      "execution_count": null,
      "outputs": []
    },
    {
      "cell_type": "code",
      "source": [
        "unrated_movies = cluster_mean_ratings[~cluster_mean_ratings.index.isin(rated_movies)]"
      ],
      "metadata": {
        "id": "BTkpCLH8DSHv"
      },
      "execution_count": null,
      "outputs": []
    },
    {
      "cell_type": "code",
      "source": [
        "recommended_movies = unrated_movies.sort_values(ascending=False)[:10].index.tolist()"
      ],
      "metadata": {
        "id": "IpOVby0hDR6R"
      },
      "execution_count": null,
      "outputs": []
    },
    {
      "cell_type": "code",
      "source": [
        "print(recommended_movies)"
      ],
      "metadata": {
        "colab": {
          "base_uri": "https://localhost:8080/"
        },
        "id": "V0AQB18m3iIJ",
        "outputId": "c9747112-d1ae-4cad-d4d6-683913548ea1"
      },
      "execution_count": null,
      "outputs": [
        {
          "output_type": "stream",
          "name": "stdout",
          "text": [
            "['Star Wars (1977)', 'Raiders of the Lost Ark (1981)', 'Return of the Jedi (1983)', 'Silence of the Lambs, The (1991)', 'Pulp Fiction (1994)', 'Empire Strikes Back, The (1980)', 'Back to the Future (1985)', 'Godfather, The (1972)', 'Indiana Jones and the Last Crusade (1989)', \"Schindler's List (1993)\"]\n"
          ]
        }
      ]
    },
    {
      "cell_type": "markdown",
      "source": [
        "# **calculer precision**"
      ],
      "metadata": {
        "id": "K5Pb9j-SECm-"
      }
    },
    {
      "cell_type": "code",
      "source": [
        "precision = 0.0\n",
        "num_recommended = len(recommended_movies)\n",
        "if num_recommended > 0:\n",
        "    num_true_positives = 0\n",
        "    for movie_id in recommended_movies:\n",
        "        if movie_ratings.loc[user_id][movie_id] >= 4.0:\n",
        "            num_true_positives += 1\n",
        "    precision = num_true_positives / num_recommended\n"
      ],
      "metadata": {
        "id": "V_o83iRsDl4v"
      },
      "execution_count": null,
      "outputs": []
    },
    {
      "cell_type": "code",
      "source": [
        "print(recommended_movies)"
      ],
      "metadata": {
        "colab": {
          "base_uri": "https://localhost:8080/"
        },
        "id": "BpGxs4wADyCf",
        "outputId": "e317ec10-54bd-43b2-b0d8-17aeaba024b4"
      },
      "execution_count": null,
      "outputs": [
        {
          "output_type": "stream",
          "name": "stdout",
          "text": [
            "['Star Wars (1977)', 'Raiders of the Lost Ark (1981)', 'Return of the Jedi (1983)', 'Empire Strikes Back, The (1980)', 'Pulp Fiction (1994)', 'Indiana Jones and the Last Crusade (1989)', 'Silence of the Lambs, The (1991)', 'Back to the Future (1985)', 'Princess Bride, The (1987)', 'Fugitive, The (1993)']\n"
          ]
        }
      ]
    },
    {
      "cell_type": "code",
      "source": [
        "print(precision)"
      ],
      "metadata": {
        "colab": {
          "base_uri": "https://localhost:8080/"
        },
        "id": "_HmZddN6D4FM",
        "outputId": "badafb72-d6d0-4fd0-e7c1-ba88a3c69ec8"
      },
      "execution_count": null,
      "outputs": [
        {
          "output_type": "stream",
          "name": "stdout",
          "text": [
            "0.6\n"
          ]
        }
      ]
    },
    {
      "cell_type": "markdown",
      "source": [
        "## **The mean square error**"
      ],
      "metadata": {
        "id": "FhSNE__Zp3Q-"
      }
    },
    {
      "cell_type": "code",
      "source": [
        "import pandas as pd\n",
        "import numpy as np\n",
        "from sklearn.cluster import KMeans\n",
        "from sklearn.metrics import mean_squared_error\n"
      ],
      "metadata": {
        "id": "dSyeOFR3D8Q1"
      },
      "execution_count": null,
      "outputs": []
    },
    {
      "cell_type": "markdown",
      "source": [
        "**Charger les données **"
      ],
      "metadata": {
        "id": "hhwc4mOIrLz7"
      }
    },
    {
      "cell_type": "code",
      "source": [
        "names = ['user_id', 'item_id', 'rating', 'timestamp']\n",
        "train_data = pd.read_csv('https://files.grouplens.org/datasets/movielens/ml-100k/u1.base', sep='\\t', names=names)\n",
        "test_data = pd.read_csv('https://files.grouplens.org/datasets/movielens/ml-100k/u1.test', sep='\\t', names=names)"
      ],
      "metadata": {
        "id": "NoAwaMIeD8DK"
      },
      "execution_count": null,
      "outputs": []
    },
    {
      "cell_type": "markdown",
      "source": [
        "**Calculer le nombre d’utilisateurs et d’éléments uniques**"
      ],
      "metadata": {
        "id": "FIO7dzHHrZKR"
      }
    },
    {
      "cell_type": "code",
      "source": [
        "n_users = max(train_data.user_id.unique())\n"
      ],
      "metadata": {
        "id": "yptBgcVDrYbZ"
      },
      "execution_count": null,
      "outputs": []
    },
    {
      "cell_type": "code",
      "source": [
        "n_items = max(train_data.item_id.unique())"
      ],
      "metadata": {
        "id": "fooBiMSxtHJV"
      },
      "execution_count": null,
      "outputs": []
    },
    {
      "cell_type": "markdown",
      "source": [
        "# **Initialisation des baies pour la formation et le test des données**"
      ],
      "metadata": {
        "id": "jx42bDM7tOej"
      }
    },
    {
      "cell_type": "code",
      "source": [
        "train_data_array = np.zeros((n_users, n_items))\n"
      ],
      "metadata": {
        "id": "UoattPIEtJWN"
      },
      "execution_count": null,
      "outputs": []
    },
    {
      "cell_type": "code",
      "source": [
        "test_data_array = np.zeros((n_users, n_items))"
      ],
      "metadata": {
        "id": "AnDJEy3btbj8"
      },
      "execution_count": null,
      "outputs": []
    },
    {
      "cell_type": "markdown",
      "source": [
        "**Fill the train_data_array with evaluations from the training database**"
      ],
      "metadata": {
        "id": "RBzAlzH_tqeS"
      }
    },
    {
      "cell_type": "code",
      "source": [
        "for row in train_data.itertuples():\n",
        "    train_data_array[row.user_id-1, row.item_id-1] = row.rating"
      ],
      "metadata": {
        "id": "YMO3Q31gtmSH"
      },
      "execution_count": null,
      "outputs": []
    },
    {
      "cell_type": "markdown",
      "source": [
        "**Remplir le tableau test_data_array avec les évaluations de l'ensemble de données de test**"
      ],
      "metadata": {
        "id": "rBjwIdu-uALN"
      }
    },
    {
      "cell_type": "code",
      "source": [
        "for row in test_data.itertuples():\n",
        "    test_data_array[row.user_id-1, row.item_id-1] = row.rating"
      ],
      "metadata": {
        "id": "WyPCGDEBt3pq"
      },
      "execution_count": null,
      "outputs": []
    },
    {
      "cell_type": "markdown",
      "source": [
        "**Normalisation des données d'apprentissage**"
      ],
      "metadata": {
        "id": "TdBcvgaguYJJ"
      }
    },
    {
      "cell_type": "code",
      "source": [
        "means = np.nanmean(train_data_array, axis=1)"
      ],
      "metadata": {
        "id": "GaeyuCubuOgB"
      },
      "execution_count": null,
      "outputs": []
    },
    {
      "cell_type": "code",
      "source": [
        "user_ratings_train_norm = train_data_array - means.reshape(-1, 1)"
      ],
      "metadata": {
        "id": "04i6BDmKufy9"
      },
      "execution_count": null,
      "outputs": []
    },
    {
      "cell_type": "markdown",
      "source": [
        "**Appliquer k-means clustering aux évaluations des utilisateurs train norm**"
      ],
      "metadata": {
        "id": "Sb_wYVGnuo0O"
      }
    },
    {
      "cell_type": "code",
      "source": [
        "kmeans = KMeans(n_clusters=5)"
      ],
      "metadata": {
        "id": "QUA9g8jGuw6p"
      },
      "execution_count": null,
      "outputs": []
    },
    {
      "cell_type": "code",
      "source": [
        "kmeans.fit(user_ratings_train_norm)"
      ],
      "metadata": {
        "colab": {
          "base_uri": "https://localhost:8080/",
          "height": 129
        },
        "id": "0keb6k5vu7vS",
        "outputId": "953bcd99-03fd-4f5b-a73c-578e8a28b003"
      },
      "execution_count": null,
      "outputs": [
        {
          "output_type": "stream",
          "name": "stderr",
          "text": [
            "/usr/local/lib/python3.9/dist-packages/sklearn/cluster/_kmeans.py:870: FutureWarning: The default value of `n_init` will change from 10 to 'auto' in 1.4. Set the value of `n_init` explicitly to suppress the warning\n",
            "  warnings.warn(\n"
          ]
        },
        {
          "output_type": "execute_result",
          "data": {
            "text/plain": [
              "KMeans(n_clusters=10)"
            ],
            "text/html": [
              "<style>#sk-container-id-9 {color: black;background-color: white;}#sk-container-id-9 pre{padding: 0;}#sk-container-id-9 div.sk-toggleable {background-color: white;}#sk-container-id-9 label.sk-toggleable__label {cursor: pointer;display: block;width: 100%;margin-bottom: 0;padding: 0.3em;box-sizing: border-box;text-align: center;}#sk-container-id-9 label.sk-toggleable__label-arrow:before {content: \"▸\";float: left;margin-right: 0.25em;color: #696969;}#sk-container-id-9 label.sk-toggleable__label-arrow:hover:before {color: black;}#sk-container-id-9 div.sk-estimator:hover label.sk-toggleable__label-arrow:before {color: black;}#sk-container-id-9 div.sk-toggleable__content {max-height: 0;max-width: 0;overflow: hidden;text-align: left;background-color: #f0f8ff;}#sk-container-id-9 div.sk-toggleable__content pre {margin: 0.2em;color: black;border-radius: 0.25em;background-color: #f0f8ff;}#sk-container-id-9 input.sk-toggleable__control:checked~div.sk-toggleable__content {max-height: 200px;max-width: 100%;overflow: auto;}#sk-container-id-9 input.sk-toggleable__control:checked~label.sk-toggleable__label-arrow:before {content: \"▾\";}#sk-container-id-9 div.sk-estimator input.sk-toggleable__control:checked~label.sk-toggleable__label {background-color: #d4ebff;}#sk-container-id-9 div.sk-label input.sk-toggleable__control:checked~label.sk-toggleable__label {background-color: #d4ebff;}#sk-container-id-9 input.sk-hidden--visually {border: 0;clip: rect(1px 1px 1px 1px);clip: rect(1px, 1px, 1px, 1px);height: 1px;margin: -1px;overflow: hidden;padding: 0;position: absolute;width: 1px;}#sk-container-id-9 div.sk-estimator {font-family: monospace;background-color: #f0f8ff;border: 1px dotted black;border-radius: 0.25em;box-sizing: border-box;margin-bottom: 0.5em;}#sk-container-id-9 div.sk-estimator:hover {background-color: #d4ebff;}#sk-container-id-9 div.sk-parallel-item::after {content: \"\";width: 100%;border-bottom: 1px solid gray;flex-grow: 1;}#sk-container-id-9 div.sk-label:hover label.sk-toggleable__label {background-color: #d4ebff;}#sk-container-id-9 div.sk-serial::before {content: \"\";position: absolute;border-left: 1px solid gray;box-sizing: border-box;top: 0;bottom: 0;left: 50%;z-index: 0;}#sk-container-id-9 div.sk-serial {display: flex;flex-direction: column;align-items: center;background-color: white;padding-right: 0.2em;padding-left: 0.2em;position: relative;}#sk-container-id-9 div.sk-item {position: relative;z-index: 1;}#sk-container-id-9 div.sk-parallel {display: flex;align-items: stretch;justify-content: center;background-color: white;position: relative;}#sk-container-id-9 div.sk-item::before, #sk-container-id-9 div.sk-parallel-item::before {content: \"\";position: absolute;border-left: 1px solid gray;box-sizing: border-box;top: 0;bottom: 0;left: 50%;z-index: -1;}#sk-container-id-9 div.sk-parallel-item {display: flex;flex-direction: column;z-index: 1;position: relative;background-color: white;}#sk-container-id-9 div.sk-parallel-item:first-child::after {align-self: flex-end;width: 50%;}#sk-container-id-9 div.sk-parallel-item:last-child::after {align-self: flex-start;width: 50%;}#sk-container-id-9 div.sk-parallel-item:only-child::after {width: 0;}#sk-container-id-9 div.sk-dashed-wrapped {border: 1px dashed gray;margin: 0 0.4em 0.5em 0.4em;box-sizing: border-box;padding-bottom: 0.4em;background-color: white;}#sk-container-id-9 div.sk-label label {font-family: monospace;font-weight: bold;display: inline-block;line-height: 1.2em;}#sk-container-id-9 div.sk-label-container {text-align: center;}#sk-container-id-9 div.sk-container {/* jupyter's `normalize.less` sets `[hidden] { display: none; }` but bootstrap.min.css set `[hidden] { display: none !important; }` so we also need the `!important` here to be able to override the default hidden behavior on the sphinx rendered scikit-learn.org. See: https://github.com/scikit-learn/scikit-learn/issues/21755 */display: inline-block !important;position: relative;}#sk-container-id-9 div.sk-text-repr-fallback {display: none;}</style><div id=\"sk-container-id-9\" class=\"sk-top-container\"><div class=\"sk-text-repr-fallback\"><pre>KMeans(n_clusters=10)</pre><b>In a Jupyter environment, please rerun this cell to show the HTML representation or trust the notebook. <br />On GitHub, the HTML representation is unable to render, please try loading this page with nbviewer.org.</b></div><div class=\"sk-container\" hidden><div class=\"sk-item\"><div class=\"sk-estimator sk-toggleable\"><input class=\"sk-toggleable__control sk-hidden--visually\" id=\"sk-estimator-id-9\" type=\"checkbox\" checked><label for=\"sk-estimator-id-9\" class=\"sk-toggleable__label sk-toggleable__label-arrow\">KMeans</label><div class=\"sk-toggleable__content\"><pre>KMeans(n_clusters=10)</pre></div></div></div></div></div>"
            ]
          },
          "metadata": {},
          "execution_count": 146
        }
      ]
    },
    {
      "cell_type": "markdown",
      "source": [
        "**Prédire les clusters pour les évaluations des utilisateurs test norm***"
      ],
      "metadata": {
        "id": "eC5BUQtsvRTn"
      }
    },
    {
      "cell_type": "code",
      "source": [
        "user_ratings_test_norm = test_data_array - means.reshape(-1, 1)"
      ],
      "metadata": {
        "id": "7zLsbkF4vN8y"
      },
      "execution_count": null,
      "outputs": []
    },
    {
      "cell_type": "code",
      "source": [
        "predicted_clusters = kmeans.predict(user_ratings_test_norm)"
      ],
      "metadata": {
        "id": "xMiZdbiLvYK5"
      },
      "execution_count": null,
      "outputs": []
    },
    {
      "cell_type": "markdown",
      "source": [
        "**calculer les notes prédites pour chaque élément**"
      ],
      "metadata": {
        "id": "EB4432ntvg5K"
      }
    },
    {
      "cell_type": "code",
      "source": [
        "predicted_ratings = np.zeros(test_data_array.shape)\n",
        "for i in range(test_data_array.shape[0]):\n",
        "    for j in range(test_data_array.shape[1]):\n",
        "        if test_data_array[i, j] != 0:\n",
        "            cluster = predicted_clusters[i]\n",
        "            predicted_ratings[i, j] = kmeans.cluster_centers_[cluster][j] + means[i]"
      ],
      "metadata": {
        "id": "nCgLENCdveA-"
      },
      "execution_count": null,
      "outputs": []
    },
    {
      "cell_type": "code",
      "source": [
        "actual_ratings = np.zeros(test_data_array.shape)\n",
        "for i in range(test_data_array.shape[0]):\n",
        "    for j in range(test_data_array.shape[1]):\n",
        "        if test_data_array[i, j] != 0:\n",
        "            actual_ratings[i, j] = test_data_array[i, j]"
      ],
      "metadata": {
        "id": "Y_H4jtepvd9Y"
      },
      "execution_count": null,
      "outputs": []
    },
    {
      "cell_type": "code",
      "source": [
        "mse = mean_squared_error(actual_ratings, predicted_ratings)"
      ],
      "metadata": {
        "id": "sA4iSMSlvd7F"
      },
      "execution_count": null,
      "outputs": []
    },
    {
      "cell_type": "code",
      "source": [
        "print(\"Mean squared error:\", mse)"
      ],
      "metadata": {
        "colab": {
          "base_uri": "https://localhost:8080/"
        },
        "id": "pQag9r1Pvdzh",
        "outputId": "905266af-6c40-4def-c8ff-617e0d7ac602"
      },
      "execution_count": null,
      "outputs": [
        {
          "output_type": "stream",
          "name": "stdout",
          "text": [
            "Mean squared error: 0.12475166738920163\n"
          ]
        }
      ]
    }
  ]
}